{
 "cells": [
  {
   "cell_type": "code",
   "execution_count": 44,
   "metadata": {},
   "outputs": [],
   "source": [
    "import pandas as pd\n",
    "import numpy as np\n",
    "import matplotlib.pyplot as plt\n",
    "%matplotlib inline"
   ]
  },
  {
   "cell_type": "code",
   "execution_count": 3,
   "metadata": {},
   "outputs": [],
   "source": [
    "births=pd.read_csv(r'https://raw.githubusercontent.com/jakevdp/data-CDCbirths/master/births.csv')"
   ]
  },
  {
   "cell_type": "code",
   "execution_count": 58,
   "metadata": {},
   "outputs": [
    {
     "data": {
      "text/plain": [
       "(   year  month  day gender  births  decade\n",
       " 0  1969      1  1.0      F    4046    1960\n",
       " 1  1969      1  1.0      M    4440    1960\n",
       " 2  1969      1  2.0      F    4454    1960\n",
       " 3  1969      1  2.0      M    4548    1960\n",
       " 4  1969      1  3.0      F    4548    1960,\n",
       "        year  month   day gender  births  decade\n",
       " 0      1969      1   1.0      F    4046    1960\n",
       " 1      1969      1   1.0      M    4440    1960\n",
       " 2      1969      1   2.0      F    4454    1960\n",
       " 3      1969      1   2.0      M    4548    1960\n",
       " 4      1969      1   3.0      F    4548    1960\n",
       " ...     ...    ...   ...    ...     ...     ...\n",
       " 15062  1988     12  29.0      M    5944    1980\n",
       " 15063  1988     12  30.0      F    5742    1980\n",
       " 15064  1988     12  30.0      M    6095    1980\n",
       " 15065  1988     12  31.0      F    4435    1980\n",
       " 15066  1988     12  31.0      M    4698    1980\n",
       " \n",
       " [15067 rows x 6 columns])"
      ]
     },
     "execution_count": 58,
     "metadata": {},
     "output_type": "execute_result"
    }
   ],
   "source": [
    "births.head(),births.dropna()"
   ]
  },
  {
   "cell_type": "code",
   "execution_count": 29,
   "metadata": {},
   "outputs": [
    {
     "data": {
      "text/html": [
       "<div>\n",
       "<style scoped>\n",
       "    .dataframe tbody tr th:only-of-type {\n",
       "        vertical-align: middle;\n",
       "    }\n",
       "\n",
       "    .dataframe tbody tr th {\n",
       "        vertical-align: top;\n",
       "    }\n",
       "\n",
       "    .dataframe thead tr th {\n",
       "        text-align: left;\n",
       "    }\n",
       "\n",
       "    .dataframe thead tr:last-of-type th {\n",
       "        text-align: right;\n",
       "    }\n",
       "</style>\n",
       "<table border=\"1\" class=\"dataframe\">\n",
       "  <thead>\n",
       "    <tr>\n",
       "      <th></th>\n",
       "      <th colspan=\"10\" halign=\"left\">day</th>\n",
       "      <th>...</th>\n",
       "      <th colspan=\"10\" halign=\"left\">births</th>\n",
       "    </tr>\n",
       "    <tr>\n",
       "      <th>month</th>\n",
       "      <th>1</th>\n",
       "      <th>2</th>\n",
       "      <th>3</th>\n",
       "      <th>4</th>\n",
       "      <th>5</th>\n",
       "      <th>6</th>\n",
       "      <th>7</th>\n",
       "      <th>8</th>\n",
       "      <th>9</th>\n",
       "      <th>10</th>\n",
       "      <th>...</th>\n",
       "      <th>3</th>\n",
       "      <th>4</th>\n",
       "      <th>5</th>\n",
       "      <th>6</th>\n",
       "      <th>7</th>\n",
       "      <th>8</th>\n",
       "      <th>9</th>\n",
       "      <th>10</th>\n",
       "      <th>11</th>\n",
       "      <th>12</th>\n",
       "    </tr>\n",
       "    <tr>\n",
       "      <th>year</th>\n",
       "      <th></th>\n",
       "      <th></th>\n",
       "      <th></th>\n",
       "      <th></th>\n",
       "      <th></th>\n",
       "      <th></th>\n",
       "      <th></th>\n",
       "      <th></th>\n",
       "      <th></th>\n",
       "      <th></th>\n",
       "      <th></th>\n",
       "      <th></th>\n",
       "      <th></th>\n",
       "      <th></th>\n",
       "      <th></th>\n",
       "      <th></th>\n",
       "      <th></th>\n",
       "      <th></th>\n",
       "      <th></th>\n",
       "      <th></th>\n",
       "      <th></th>\n",
       "    </tr>\n",
       "  </thead>\n",
       "  <tbody>\n",
       "    <tr>\n",
       "      <th>1969</th>\n",
       "      <td>18.59375</td>\n",
       "      <td>18.593750</td>\n",
       "      <td>18.59375</td>\n",
       "      <td>18.593750</td>\n",
       "      <td>18.59375</td>\n",
       "      <td>18.593750</td>\n",
       "      <td>18.59375</td>\n",
       "      <td>18.59375</td>\n",
       "      <td>18.59375</td>\n",
       "      <td>18.59375</td>\n",
       "      <td>...</td>\n",
       "      <td>4633.593750</td>\n",
       "      <td>4416.218750</td>\n",
       "      <td>4517.562500</td>\n",
       "      <td>4556.406250</td>\n",
       "      <td>4974.31250</td>\n",
       "      <td>5016.156250</td>\n",
       "      <td>4884.687500</td>\n",
       "      <td>4874.562500</td>\n",
       "      <td>4641.468750</td>\n",
       "      <td>4914.406250</td>\n",
       "    </tr>\n",
       "    <tr>\n",
       "      <th>1970</th>\n",
       "      <td>18.59375</td>\n",
       "      <td>18.593750</td>\n",
       "      <td>18.59375</td>\n",
       "      <td>18.593750</td>\n",
       "      <td>18.59375</td>\n",
       "      <td>18.593750</td>\n",
       "      <td>18.59375</td>\n",
       "      <td>18.59375</td>\n",
       "      <td>18.59375</td>\n",
       "      <td>18.59375</td>\n",
       "      <td>...</td>\n",
       "      <td>4803.875000</td>\n",
       "      <td>4485.781250</td>\n",
       "      <td>4658.437500</td>\n",
       "      <td>4740.281250</td>\n",
       "      <td>5163.31250</td>\n",
       "      <td>5176.968750</td>\n",
       "      <td>5195.250000</td>\n",
       "      <td>5069.093750</td>\n",
       "      <td>4837.562500</td>\n",
       "      <td>5151.218750</td>\n",
       "    </tr>\n",
       "    <tr>\n",
       "      <th>1971</th>\n",
       "      <td>18.59375</td>\n",
       "      <td>18.032787</td>\n",
       "      <td>18.59375</td>\n",
       "      <td>18.593750</td>\n",
       "      <td>18.59375</td>\n",
       "      <td>18.396825</td>\n",
       "      <td>18.59375</td>\n",
       "      <td>18.59375</td>\n",
       "      <td>18.59375</td>\n",
       "      <td>18.59375</td>\n",
       "      <td>...</td>\n",
       "      <td>4817.375000</td>\n",
       "      <td>4473.500000</td>\n",
       "      <td>4451.968750</td>\n",
       "      <td>4532.031746</td>\n",
       "      <td>4773.96875</td>\n",
       "      <td>4892.531250</td>\n",
       "      <td>4867.718750</td>\n",
       "      <td>4738.250000</td>\n",
       "      <td>4402.531250</td>\n",
       "      <td>4475.156250</td>\n",
       "    </tr>\n",
       "    <tr>\n",
       "      <th>1972</th>\n",
       "      <td>18.59375</td>\n",
       "      <td>18.209677</td>\n",
       "      <td>18.59375</td>\n",
       "      <td>18.593750</td>\n",
       "      <td>18.59375</td>\n",
       "      <td>18.396825</td>\n",
       "      <td>18.59375</td>\n",
       "      <td>18.59375</td>\n",
       "      <td>18.59375</td>\n",
       "      <td>18.59375</td>\n",
       "      <td>...</td>\n",
       "      <td>4275.703125</td>\n",
       "      <td>3985.546875</td>\n",
       "      <td>4223.109375</td>\n",
       "      <td>4130.619048</td>\n",
       "      <td>4347.93750</td>\n",
       "      <td>4508.906250</td>\n",
       "      <td>4423.062500</td>\n",
       "      <td>4310.984375</td>\n",
       "      <td>4135.453125</td>\n",
       "      <td>4329.921875</td>\n",
       "    </tr>\n",
       "    <tr>\n",
       "      <th>1973</th>\n",
       "      <td>18.59375</td>\n",
       "      <td>17.800000</td>\n",
       "      <td>18.59375</td>\n",
       "      <td>18.396825</td>\n",
       "      <td>18.59375</td>\n",
       "      <td>18.593750</td>\n",
       "      <td>18.59375</td>\n",
       "      <td>18.59375</td>\n",
       "      <td>18.59375</td>\n",
       "      <td>18.59375</td>\n",
       "      <td>...</td>\n",
       "      <td>4211.031250</td>\n",
       "      <td>3937.809524</td>\n",
       "      <td>3988.546875</td>\n",
       "      <td>3981.234375</td>\n",
       "      <td>4311.46875</td>\n",
       "      <td>4409.203125</td>\n",
       "      <td>4243.828125</td>\n",
       "      <td>4162.750000</td>\n",
       "      <td>4012.380952</td>\n",
       "      <td>4083.937500</td>\n",
       "    </tr>\n",
       "  </tbody>\n",
       "</table>\n",
       "<p>5 rows × 24 columns</p>\n",
       "</div>"
      ],
      "text/plain": [
       "            day                                                       \\\n",
       "month        1          2         3          4         5          6    \n",
       "year                                                                   \n",
       "1969   18.59375  18.593750  18.59375  18.593750  18.59375  18.593750   \n",
       "1970   18.59375  18.593750  18.59375  18.593750  18.59375  18.593750   \n",
       "1971   18.59375  18.032787  18.59375  18.593750  18.59375  18.396825   \n",
       "1972   18.59375  18.209677  18.59375  18.593750  18.59375  18.396825   \n",
       "1973   18.59375  17.800000  18.59375  18.396825  18.59375  18.593750   \n",
       "\n",
       "                                               ...       births               \\\n",
       "month        7         8         9         10  ...           3            4    \n",
       "year                                           ...                             \n",
       "1969   18.59375  18.59375  18.59375  18.59375  ...  4633.593750  4416.218750   \n",
       "1970   18.59375  18.59375  18.59375  18.59375  ...  4803.875000  4485.781250   \n",
       "1971   18.59375  18.59375  18.59375  18.59375  ...  4817.375000  4473.500000   \n",
       "1972   18.59375  18.59375  18.59375  18.59375  ...  4275.703125  3985.546875   \n",
       "1973   18.59375  18.59375  18.59375  18.59375  ...  4211.031250  3937.809524   \n",
       "\n",
       "                                                                       \\\n",
       "month           5            6           7            8            9    \n",
       "year                                                                    \n",
       "1969   4517.562500  4556.406250  4974.31250  5016.156250  4884.687500   \n",
       "1970   4658.437500  4740.281250  5163.31250  5176.968750  5195.250000   \n",
       "1971   4451.968750  4532.031746  4773.96875  4892.531250  4867.718750   \n",
       "1972   4223.109375  4130.619048  4347.93750  4508.906250  4423.062500   \n",
       "1973   3988.546875  3981.234375  4311.46875  4409.203125  4243.828125   \n",
       "\n",
       "                                              \n",
       "month           10           11           12  \n",
       "year                                          \n",
       "1969   4874.562500  4641.468750  4914.406250  \n",
       "1970   5069.093750  4837.562500  5151.218750  \n",
       "1971   4738.250000  4402.531250  4475.156250  \n",
       "1972   4310.984375  4135.453125  4329.921875  \n",
       "1973   4162.750000  4012.380952  4083.937500  \n",
       "\n",
       "[5 rows x 24 columns]"
      ]
     },
     "execution_count": 29,
     "metadata": {},
     "output_type": "execute_result"
    }
   ],
   "source": [
    "births.groupby(['year','month']).mean().unstack().head()"
   ]
  },
  {
   "cell_type": "code",
   "execution_count": 28,
   "metadata": {},
   "outputs": [
    {
     "data": {
      "text/html": [
       "<div>\n",
       "<style scoped>\n",
       "    .dataframe tbody tr th:only-of-type {\n",
       "        vertical-align: middle;\n",
       "    }\n",
       "\n",
       "    .dataframe tbody tr th {\n",
       "        vertical-align: top;\n",
       "    }\n",
       "\n",
       "    .dataframe thead th {\n",
       "        text-align: right;\n",
       "    }\n",
       "</style>\n",
       "<table border=\"1\" class=\"dataframe\">\n",
       "  <thead>\n",
       "    <tr style=\"text-align: right;\">\n",
       "      <th>month</th>\n",
       "      <th>1</th>\n",
       "      <th>2</th>\n",
       "      <th>3</th>\n",
       "      <th>4</th>\n",
       "      <th>5</th>\n",
       "      <th>6</th>\n",
       "      <th>7</th>\n",
       "      <th>8</th>\n",
       "      <th>9</th>\n",
       "      <th>10</th>\n",
       "      <th>11</th>\n",
       "      <th>12</th>\n",
       "    </tr>\n",
       "    <tr>\n",
       "      <th>year</th>\n",
       "      <th></th>\n",
       "      <th></th>\n",
       "      <th></th>\n",
       "      <th></th>\n",
       "      <th></th>\n",
       "      <th></th>\n",
       "      <th></th>\n",
       "      <th></th>\n",
       "      <th></th>\n",
       "      <th></th>\n",
       "      <th></th>\n",
       "      <th></th>\n",
       "    </tr>\n",
       "  </thead>\n",
       "  <tbody>\n",
       "    <tr>\n",
       "      <th>1969</th>\n",
       "      <td>18.59375</td>\n",
       "      <td>18.593750</td>\n",
       "      <td>18.59375</td>\n",
       "      <td>18.593750</td>\n",
       "      <td>18.59375</td>\n",
       "      <td>18.593750</td>\n",
       "      <td>18.59375</td>\n",
       "      <td>18.59375</td>\n",
       "      <td>18.59375</td>\n",
       "      <td>18.59375</td>\n",
       "      <td>18.593750</td>\n",
       "      <td>18.59375</td>\n",
       "    </tr>\n",
       "    <tr>\n",
       "      <th>1970</th>\n",
       "      <td>18.59375</td>\n",
       "      <td>18.593750</td>\n",
       "      <td>18.59375</td>\n",
       "      <td>18.593750</td>\n",
       "      <td>18.59375</td>\n",
       "      <td>18.593750</td>\n",
       "      <td>18.59375</td>\n",
       "      <td>18.59375</td>\n",
       "      <td>18.59375</td>\n",
       "      <td>18.59375</td>\n",
       "      <td>18.593750</td>\n",
       "      <td>18.59375</td>\n",
       "    </tr>\n",
       "    <tr>\n",
       "      <th>1971</th>\n",
       "      <td>18.59375</td>\n",
       "      <td>18.032787</td>\n",
       "      <td>18.59375</td>\n",
       "      <td>18.593750</td>\n",
       "      <td>18.59375</td>\n",
       "      <td>18.396825</td>\n",
       "      <td>18.59375</td>\n",
       "      <td>18.59375</td>\n",
       "      <td>18.59375</td>\n",
       "      <td>18.59375</td>\n",
       "      <td>18.593750</td>\n",
       "      <td>18.59375</td>\n",
       "    </tr>\n",
       "    <tr>\n",
       "      <th>1972</th>\n",
       "      <td>18.59375</td>\n",
       "      <td>18.209677</td>\n",
       "      <td>18.59375</td>\n",
       "      <td>18.593750</td>\n",
       "      <td>18.59375</td>\n",
       "      <td>18.396825</td>\n",
       "      <td>18.59375</td>\n",
       "      <td>18.59375</td>\n",
       "      <td>18.59375</td>\n",
       "      <td>18.59375</td>\n",
       "      <td>18.593750</td>\n",
       "      <td>18.59375</td>\n",
       "    </tr>\n",
       "    <tr>\n",
       "      <th>1973</th>\n",
       "      <td>18.59375</td>\n",
       "      <td>17.800000</td>\n",
       "      <td>18.59375</td>\n",
       "      <td>18.396825</td>\n",
       "      <td>18.59375</td>\n",
       "      <td>18.593750</td>\n",
       "      <td>18.59375</td>\n",
       "      <td>18.59375</td>\n",
       "      <td>18.59375</td>\n",
       "      <td>18.59375</td>\n",
       "      <td>18.396825</td>\n",
       "      <td>18.59375</td>\n",
       "    </tr>\n",
       "  </tbody>\n",
       "</table>\n",
       "</div>"
      ],
      "text/plain": [
       "month        1          2         3          4         5          6   \\\n",
       "year                                                                   \n",
       "1969   18.59375  18.593750  18.59375  18.593750  18.59375  18.593750   \n",
       "1970   18.59375  18.593750  18.59375  18.593750  18.59375  18.593750   \n",
       "1971   18.59375  18.032787  18.59375  18.593750  18.59375  18.396825   \n",
       "1972   18.59375  18.209677  18.59375  18.593750  18.59375  18.396825   \n",
       "1973   18.59375  17.800000  18.59375  18.396825  18.59375  18.593750   \n",
       "\n",
       "month        7         8         9         10         11        12  \n",
       "year                                                                \n",
       "1969   18.59375  18.59375  18.59375  18.59375  18.593750  18.59375  \n",
       "1970   18.59375  18.59375  18.59375  18.59375  18.593750  18.59375  \n",
       "1971   18.59375  18.59375  18.59375  18.59375  18.593750  18.59375  \n",
       "1972   18.59375  18.59375  18.59375  18.59375  18.593750  18.59375  \n",
       "1973   18.59375  18.59375  18.59375  18.59375  18.396825  18.59375  "
      ]
     },
     "execution_count": 28,
     "metadata": {},
     "output_type": "execute_result"
    }
   ],
   "source": [
    "births.pivot_table('day',index='year',columns='month').head()"
   ]
  },
  {
   "cell_type": "code",
   "execution_count": 30,
   "metadata": {},
   "outputs": [],
   "source": [
    "births['decade']=10*(births['year']//10)\n"
   ]
  },
  {
   "cell_type": "code",
   "execution_count": 31,
   "metadata": {},
   "outputs": [
    {
     "data": {
      "text/html": [
       "<div>\n",
       "<style scoped>\n",
       "    .dataframe tbody tr th:only-of-type {\n",
       "        vertical-align: middle;\n",
       "    }\n",
       "\n",
       "    .dataframe tbody tr th {\n",
       "        vertical-align: top;\n",
       "    }\n",
       "\n",
       "    .dataframe thead th {\n",
       "        text-align: right;\n",
       "    }\n",
       "</style>\n",
       "<table border=\"1\" class=\"dataframe\">\n",
       "  <thead>\n",
       "    <tr style=\"text-align: right;\">\n",
       "      <th></th>\n",
       "      <th>year</th>\n",
       "      <th>month</th>\n",
       "      <th>day</th>\n",
       "      <th>gender</th>\n",
       "      <th>births</th>\n",
       "      <th>decade</th>\n",
       "    </tr>\n",
       "  </thead>\n",
       "  <tbody>\n",
       "    <tr>\n",
       "      <th>0</th>\n",
       "      <td>1969</td>\n",
       "      <td>1</td>\n",
       "      <td>1.0</td>\n",
       "      <td>F</td>\n",
       "      <td>4046</td>\n",
       "      <td>1960</td>\n",
       "    </tr>\n",
       "    <tr>\n",
       "      <th>1</th>\n",
       "      <td>1969</td>\n",
       "      <td>1</td>\n",
       "      <td>1.0</td>\n",
       "      <td>M</td>\n",
       "      <td>4440</td>\n",
       "      <td>1960</td>\n",
       "    </tr>\n",
       "    <tr>\n",
       "      <th>2</th>\n",
       "      <td>1969</td>\n",
       "      <td>1</td>\n",
       "      <td>2.0</td>\n",
       "      <td>F</td>\n",
       "      <td>4454</td>\n",
       "      <td>1960</td>\n",
       "    </tr>\n",
       "    <tr>\n",
       "      <th>3</th>\n",
       "      <td>1969</td>\n",
       "      <td>1</td>\n",
       "      <td>2.0</td>\n",
       "      <td>M</td>\n",
       "      <td>4548</td>\n",
       "      <td>1960</td>\n",
       "    </tr>\n",
       "    <tr>\n",
       "      <th>4</th>\n",
       "      <td>1969</td>\n",
       "      <td>1</td>\n",
       "      <td>3.0</td>\n",
       "      <td>F</td>\n",
       "      <td>4548</td>\n",
       "      <td>1960</td>\n",
       "    </tr>\n",
       "  </tbody>\n",
       "</table>\n",
       "</div>"
      ],
      "text/plain": [
       "   year  month  day gender  births  decade\n",
       "0  1969      1  1.0      F    4046    1960\n",
       "1  1969      1  1.0      M    4440    1960\n",
       "2  1969      1  2.0      F    4454    1960\n",
       "3  1969      1  2.0      M    4548    1960\n",
       "4  1969      1  3.0      F    4548    1960"
      ]
     },
     "execution_count": 31,
     "metadata": {},
     "output_type": "execute_result"
    }
   ],
   "source": [
    "births.head()"
   ]
  },
  {
   "cell_type": "markdown",
   "metadata": {},
   "source": []
  },
  {
   "cell_type": "code",
   "execution_count": 45,
   "metadata": {},
   "outputs": [
    {
     "data": {
      "text/html": [
       "<div>\n",
       "<style scoped>\n",
       "    .dataframe tbody tr th:only-of-type {\n",
       "        vertical-align: middle;\n",
       "    }\n",
       "\n",
       "    .dataframe tbody tr th {\n",
       "        vertical-align: top;\n",
       "    }\n",
       "\n",
       "    .dataframe thead th {\n",
       "        text-align: right;\n",
       "    }\n",
       "</style>\n",
       "<table border=\"1\" class=\"dataframe\">\n",
       "  <thead>\n",
       "    <tr style=\"text-align: right;\">\n",
       "      <th>gender</th>\n",
       "      <th>F</th>\n",
       "      <th>M</th>\n",
       "    </tr>\n",
       "    <tr>\n",
       "      <th>decade</th>\n",
       "      <th></th>\n",
       "      <th></th>\n",
       "    </tr>\n",
       "  </thead>\n",
       "  <tbody>\n",
       "    <tr>\n",
       "      <th>1960</th>\n",
       "      <td>1753634</td>\n",
       "      <td>1846572</td>\n",
       "    </tr>\n",
       "    <tr>\n",
       "      <th>1970</th>\n",
       "      <td>16263075</td>\n",
       "      <td>17121550</td>\n",
       "    </tr>\n",
       "    <tr>\n",
       "      <th>1980</th>\n",
       "      <td>18310351</td>\n",
       "      <td>19243452</td>\n",
       "    </tr>\n",
       "    <tr>\n",
       "      <th>1990</th>\n",
       "      <td>19479454</td>\n",
       "      <td>20420553</td>\n",
       "    </tr>\n",
       "    <tr>\n",
       "      <th>2000</th>\n",
       "      <td>18229309</td>\n",
       "      <td>19106428</td>\n",
       "    </tr>\n",
       "  </tbody>\n",
       "</table>\n",
       "</div>"
      ],
      "text/plain": [
       "gender         F         M\n",
       "decade                    \n",
       "1960     1753634   1846572\n",
       "1970    16263075  17121550\n",
       "1980    18310351  19243452\n",
       "1990    19479454  20420553\n",
       "2000    18229309  19106428"
      ]
     },
     "execution_count": 45,
     "metadata": {},
     "output_type": "execute_result"
    }
   ],
   "source": [
    "births.pivot_table('births',columns='gender',index='decade',aggfunc='sum')"
   ]
  },
  {
   "cell_type": "code",
   "execution_count": 47,
   "metadata": {},
   "outputs": [
    {
     "data": {
      "text/plain": [
       "Text(0,0.5,'Births')"
      ]
     },
     "execution_count": 47,
     "metadata": {},
     "output_type": "execute_result"
    },
    {
     "data": {
      "image/png": "[encoded data removed]",
      "text/plain": [
       "<matplotlib.figure.Figure at 0x26c747d4f28>"
      ]
     },
     "metadata": {
      "needs_background": "light"
     },
     "output_type": "display_data"
    }
   ],
   "source": [
    "births.pivot_table('births',columns='gender',index='decade',aggfunc='sum').plot()\n",
    "plt.xlabel('Decade')\n",
    "plt.ylabel('Births')\n"
   ]
  },
  {
   "cell_type": "code",
   "execution_count": 52,
   "metadata": {},
   "outputs": [
    {
     "data": {
      "text/plain": [
       "Text(0,0.5,'Births')"
      ]
     },
     "execution_count": 52,
     "metadata": {},
     "output_type": "execute_result"
    },
    {
     "data": {
      "image/png": "[encoded data removed]",
      "text/plain": [
       "<matplotlib.figure.Figure at 0x26c74bd0f98>"
      ]
     },
     "metadata": {
      "needs_background": "light"
     },
     "output_type": "display_data"
    }
   ],
   "source": [
    "births.pivot_table('births',columns='gender',index='year',aggfunc='sum').plot()\n",
    "plt.xlabel('Decade')\n",
    "plt.ylabel('Births')"
   ]
  },
  {
   "cell_type": "code",
   "execution_count": 48,
   "metadata": {},
   "outputs": [],
   "source": [
    "plt.legend?"
   ]
  },
  {
   "cell_type": "code",
   "execution_count": 49,
   "metadata": {},
   "outputs": [],
   "source": [
    "quartiles = np.percentile(births['births'], [25, 50, 75])\n",
    "mu = quartiles[1]\n",
    "sig = 0.74 * (quartiles[2] - quartiles[0])"
   ]
  },
  {
   "cell_type": "code",
   "execution_count": 50,
   "metadata": {},
   "outputs": [
    {
     "data": {
      "text/plain": [
       "array([4358. , 4814. , 5289.5])"
      ]
     },
     "execution_count": 50,
     "metadata": {},
     "output_type": "execute_result"
    }
   ],
   "source": [
    "quartiles"
   ]
  },
  {
   "cell_type": "code",
   "execution_count": 51,
   "metadata": {},
   "outputs": [
    {
     "name": "stdout",
     "output_type": "stream",
     "text": [
      "Help on function percentile in module numpy:\n",
      "\n",
      "percentile(a, q, axis=None, out=None, overwrite_input=False, interpolation='linear', keepdims=False)\n",
      "    Compute the q-th percentile of the data along the specified axis.\n",
      "    \n",
      "    Returns the q-th percentile(s) of the array elements.\n",
      "    \n",
      "    Parameters\n",
      "    ----------\n",
      "    a : array_like\n",
      "        Input array or object that can be converted to an array.\n",
      "    q : array_like of float\n",
      "        Percentile or sequence of percentiles to compute, which must be between\n",
      "        0 and 100 inclusive.\n",
      "    axis : {int, tuple of int, None}, optional\n",
      "        Axis or axes along which the percentiles are computed. The\n",
      "        default is to compute the percentile(s) along a flattened\n",
      "        version of the array.\n",
      "    \n",
      "        .. versionchanged:: 1.9.0\n",
      "            A tuple of axes is supported\n",
      "    out : ndarray, optional\n",
      "        Alternative output array in which to place the result. It must\n",
      "        have the same shape and buffer length as the expected output,\n",
      "        but the type (of the output) will be cast if necessary.\n",
      "    overwrite_input : bool, optional\n",
      "        If True, then allow the input array `a` to be modified by intermediate\n",
      "        calculations, to save memory. In this case, the contents of the input\n",
      "        `a` after this function completes is undefined.\n",
      "    \n",
      "    interpolation : {'linear', 'lower', 'higher', 'midpoint', 'nearest'}\n",
      "        This optional parameter specifies the interpolation method to\n",
      "        use when the desired percentile lies between two data points\n",
      "        ``i < j``:\n",
      "    \n",
      "        * 'linear': ``i + (j - i) * fraction``, where ``fraction``\n",
      "          is the fractional part of the index surrounded by ``i``\n",
      "          and ``j``.\n",
      "        * 'lower': ``i``.\n",
      "        * 'higher': ``j``.\n",
      "        * 'nearest': ``i`` or ``j``, whichever is nearest.\n",
      "        * 'midpoint': ``(i + j) / 2``.\n",
      "    \n",
      "        .. versionadded:: 1.9.0\n",
      "    keepdims : bool, optional\n",
      "        If this is set to True, the axes which are reduced are left in\n",
      "        the result as dimensions with size one. With this option, the\n",
      "        result will broadcast correctly against the original array `a`.\n",
      "    \n",
      "        .. versionadded:: 1.9.0\n",
      "    \n",
      "    Returns\n",
      "    -------\n",
      "    percentile : scalar or ndarray\n",
      "        If `q` is a single percentile and `axis=None`, then the result\n",
      "        is a scalar. If multiple percentiles are given, first axis of\n",
      "        the result corresponds to the percentiles. The other axes are\n",
      "        the axes that remain after the reduction of `a`. If the input\n",
      "        contains integers or floats smaller than ``float64``, the output\n",
      "        data-type is ``float64``. Otherwise, the output data-type is the\n",
      "        same as that of the input. If `out` is specified, that array is\n",
      "        returned instead.\n",
      "    \n",
      "    See Also\n",
      "    --------\n",
      "    mean\n",
      "    median : equivalent to ``percentile(..., 50)``\n",
      "    nanpercentile\n",
      "    quantile : equivalent to percentile, except with q in the range [0, 1].\n",
      "    \n",
      "    Notes\n",
      "    -----\n",
      "    Given a vector ``V`` of length ``N``, the q-th percentile of\n",
      "    ``V`` is the value ``q/100`` of the way from the minimum to the\n",
      "    maximum in a sorted copy of ``V``. The values and distances of\n",
      "    the two nearest neighbors as well as the `interpolation` parameter\n",
      "    will determine the percentile if the normalized ranking does not\n",
      "    match the location of ``q`` exactly. This function is the same as\n",
      "    the median if ``q=50``, the same as the minimum if ``q=0`` and the\n",
      "    same as the maximum if ``q=100``.\n",
      "    \n",
      "    Examples\n",
      "    --------\n",
      "    >>> a = np.array([[10, 7, 4], [3, 2, 1]])\n",
      "    >>> a\n",
      "    array([[10,  7,  4],\n",
      "           [ 3,  2,  1]])\n",
      "    >>> np.percentile(a, 50)\n",
      "    3.5\n",
      "    >>> np.percentile(a, 50, axis=0)\n",
      "    array([6.5, 4.5, 2.5])\n",
      "    >>> np.percentile(a, 50, axis=1)\n",
      "    array([7.,  2.])\n",
      "    >>> np.percentile(a, 50, axis=1, keepdims=True)\n",
      "    array([[7.],\n",
      "           [2.]])\n",
      "    \n",
      "    >>> m = np.percentile(a, 50, axis=0)\n",
      "    >>> out = np.zeros_like(m)\n",
      "    >>> np.percentile(a, 50, axis=0, out=out)\n",
      "    array([6.5, 4.5, 2.5])\n",
      "    >>> m\n",
      "    array([6.5, 4.5, 2.5])\n",
      "    \n",
      "    >>> b = a.copy()\n",
      "    >>> np.percentile(b, 50, axis=1, overwrite_input=True)\n",
      "    array([7.,  2.])\n",
      "    >>> assert not np.all(a == b)\n",
      "    \n",
      "    The different types of interpolation can be visualized graphically:\n",
      "    \n",
      "    .. plot::\n",
      "    \n",
      "        import matplotlib.pyplot as plt\n",
      "    \n",
      "        a = np.arange(4)\n",
      "        p = np.linspace(0, 100, 6001)\n",
      "        ax = plt.gca()\n",
      "        lines = [\n",
      "            ('linear', None),\n",
      "            ('higher', '--'),\n",
      "            ('lower', '--'),\n",
      "            ('nearest', '-.'),\n",
      "            ('midpoint', '-.'),\n",
      "        ]\n",
      "        for interpolation, style in lines:\n",
      "            ax.plot(\n",
      "                p, np.percentile(a, p, interpolation=interpolation),\n",
      "                label=interpolation, linestyle=style)\n",
      "        ax.set(\n",
      "            title='Interpolation methods for list: ' + str(a),\n",
      "            xlabel='Percentile',\n",
      "            ylabel='List item returned',\n",
      "            yticks=a)\n",
      "        ax.legend()\n",
      "        plt.show()\n",
      "\n"
     ]
    }
   ],
   "source": [
    "help(np.percentile)"
   ]
  },
  {
   "cell_type": "code",
   "execution_count": 69,
   "metadata": {},
   "outputs": [],
   "source": [
    "\n",
    "births = births.query('(births > @mu - 5 * @sig) & (births < @mu + 5 * @sig)')"
   ]
  },
  {
   "cell_type": "code",
   "execution_count": 70,
   "metadata": {},
   "outputs": [],
   "source": [
    "# set 'day' column to integer; it originally was a string due to nulls\n",
    "births['day'] = births['day'].astype(int)"
   ]
  },
  {
   "cell_type": "code",
   "execution_count": 72,
   "metadata": {},
   "outputs": [],
   "source": [
    "births.index = pd.to_datetime(10000 * births.year +\n",
    "100 * births.month +\n",
    "births.day, format='%Y%m%d')"
   ]
  },
  {
   "cell_type": "code",
   "execution_count": 73,
   "metadata": {},
   "outputs": [
    {
     "data": {
      "text/html": [
       "<div>\n",
       "<style scoped>\n",
       "    .dataframe tbody tr th:only-of-type {\n",
       "        vertical-align: middle;\n",
       "    }\n",
       "\n",
       "    .dataframe tbody tr th {\n",
       "        vertical-align: top;\n",
       "    }\n",
       "\n",
       "    .dataframe thead th {\n",
       "        text-align: right;\n",
       "    }\n",
       "</style>\n",
       "<table border=\"1\" class=\"dataframe\">\n",
       "  <thead>\n",
       "    <tr style=\"text-align: right;\">\n",
       "      <th></th>\n",
       "      <th>year</th>\n",
       "      <th>month</th>\n",
       "      <th>day</th>\n",
       "      <th>gender</th>\n",
       "      <th>births</th>\n",
       "      <th>decade</th>\n",
       "    </tr>\n",
       "  </thead>\n",
       "  <tbody>\n",
       "    <tr>\n",
       "      <th>1969-01-01</th>\n",
       "      <td>1969</td>\n",
       "      <td>1</td>\n",
       "      <td>1</td>\n",
       "      <td>F</td>\n",
       "      <td>4046</td>\n",
       "      <td>1960</td>\n",
       "    </tr>\n",
       "    <tr>\n",
       "      <th>1969-01-01</th>\n",
       "      <td>1969</td>\n",
       "      <td>1</td>\n",
       "      <td>1</td>\n",
       "      <td>M</td>\n",
       "      <td>4440</td>\n",
       "      <td>1960</td>\n",
       "    </tr>\n",
       "    <tr>\n",
       "      <th>1969-01-02</th>\n",
       "      <td>1969</td>\n",
       "      <td>1</td>\n",
       "      <td>2</td>\n",
       "      <td>F</td>\n",
       "      <td>4454</td>\n",
       "      <td>1960</td>\n",
       "    </tr>\n",
       "    <tr>\n",
       "      <th>1969-01-02</th>\n",
       "      <td>1969</td>\n",
       "      <td>1</td>\n",
       "      <td>2</td>\n",
       "      <td>M</td>\n",
       "      <td>4548</td>\n",
       "      <td>1960</td>\n",
       "    </tr>\n",
       "    <tr>\n",
       "      <th>1969-01-03</th>\n",
       "      <td>1969</td>\n",
       "      <td>1</td>\n",
       "      <td>3</td>\n",
       "      <td>F</td>\n",
       "      <td>4548</td>\n",
       "      <td>1960</td>\n",
       "    </tr>\n",
       "    <tr>\n",
       "      <th>...</th>\n",
       "      <td>...</td>\n",
       "      <td>...</td>\n",
       "      <td>...</td>\n",
       "      <td>...</td>\n",
       "      <td>...</td>\n",
       "      <td>...</td>\n",
       "    </tr>\n",
       "    <tr>\n",
       "      <th>1988-12-29</th>\n",
       "      <td>1988</td>\n",
       "      <td>12</td>\n",
       "      <td>29</td>\n",
       "      <td>M</td>\n",
       "      <td>5944</td>\n",
       "      <td>1980</td>\n",
       "    </tr>\n",
       "    <tr>\n",
       "      <th>1988-12-30</th>\n",
       "      <td>1988</td>\n",
       "      <td>12</td>\n",
       "      <td>30</td>\n",
       "      <td>F</td>\n",
       "      <td>5742</td>\n",
       "      <td>1980</td>\n",
       "    </tr>\n",
       "    <tr>\n",
       "      <th>1988-12-30</th>\n",
       "      <td>1988</td>\n",
       "      <td>12</td>\n",
       "      <td>30</td>\n",
       "      <td>M</td>\n",
       "      <td>6095</td>\n",
       "      <td>1980</td>\n",
       "    </tr>\n",
       "    <tr>\n",
       "      <th>1988-12-31</th>\n",
       "      <td>1988</td>\n",
       "      <td>12</td>\n",
       "      <td>31</td>\n",
       "      <td>F</td>\n",
       "      <td>4435</td>\n",
       "      <td>1980</td>\n",
       "    </tr>\n",
       "    <tr>\n",
       "      <th>1988-12-31</th>\n",
       "      <td>1988</td>\n",
       "      <td>12</td>\n",
       "      <td>31</td>\n",
       "      <td>M</td>\n",
       "      <td>4698</td>\n",
       "      <td>1980</td>\n",
       "    </tr>\n",
       "  </tbody>\n",
       "</table>\n",
       "<p>14610 rows × 6 columns</p>\n",
       "</div>"
      ],
      "text/plain": [
       "            year  month  day gender  births  decade\n",
       "1969-01-01  1969      1    1      F    4046    1960\n",
       "1969-01-01  1969      1    1      M    4440    1960\n",
       "1969-01-02  1969      1    2      F    4454    1960\n",
       "1969-01-02  1969      1    2      M    4548    1960\n",
       "1969-01-03  1969      1    3      F    4548    1960\n",
       "...          ...    ...  ...    ...     ...     ...\n",
       "1988-12-29  1988     12   29      M    5944    1980\n",
       "1988-12-30  1988     12   30      F    5742    1980\n",
       "1988-12-30  1988     12   30      M    6095    1980\n",
       "1988-12-31  1988     12   31      F    4435    1980\n",
       "1988-12-31  1988     12   31      M    4698    1980\n",
       "\n",
       "[14610 rows x 6 columns]"
      ]
     },
     "execution_count": 73,
     "metadata": {},
     "output_type": "execute_result"
    }
   ],
   "source": [
    "births"
   ]
  },
  {
   "cell_type": "code",
   "execution_count": 74,
   "metadata": {},
   "outputs": [],
   "source": [
    "births['dayofweek'] = births.index.dayofweek"
   ]
  },
  {
   "cell_type": "code",
   "execution_count": 75,
   "metadata": {},
   "outputs": [
    {
     "data": {
      "text/html": [
       "<div>\n",
       "<style scoped>\n",
       "    .dataframe tbody tr th:only-of-type {\n",
       "        vertical-align: middle;\n",
       "    }\n",
       "\n",
       "    .dataframe tbody tr th {\n",
       "        vertical-align: top;\n",
       "    }\n",
       "\n",
       "    .dataframe thead th {\n",
       "        text-align: right;\n",
       "    }\n",
       "</style>\n",
       "<table border=\"1\" class=\"dataframe\">\n",
       "  <thead>\n",
       "    <tr style=\"text-align: right;\">\n",
       "      <th></th>\n",
       "      <th>year</th>\n",
       "      <th>month</th>\n",
       "      <th>day</th>\n",
       "      <th>gender</th>\n",
       "      <th>births</th>\n",
       "      <th>decade</th>\n",
       "      <th>dayofweek</th>\n",
       "    </tr>\n",
       "  </thead>\n",
       "  <tbody>\n",
       "    <tr>\n",
       "      <th>1969-01-01</th>\n",
       "      <td>1969</td>\n",
       "      <td>1</td>\n",
       "      <td>1</td>\n",
       "      <td>F</td>\n",
       "      <td>4046</td>\n",
       "      <td>1960</td>\n",
       "      <td>2</td>\n",
       "    </tr>\n",
       "    <tr>\n",
       "      <th>1969-01-01</th>\n",
       "      <td>1969</td>\n",
       "      <td>1</td>\n",
       "      <td>1</td>\n",
       "      <td>M</td>\n",
       "      <td>4440</td>\n",
       "      <td>1960</td>\n",
       "      <td>2</td>\n",
       "    </tr>\n",
       "    <tr>\n",
       "      <th>1969-01-02</th>\n",
       "      <td>1969</td>\n",
       "      <td>1</td>\n",
       "      <td>2</td>\n",
       "      <td>F</td>\n",
       "      <td>4454</td>\n",
       "      <td>1960</td>\n",
       "      <td>3</td>\n",
       "    </tr>\n",
       "    <tr>\n",
       "      <th>1969-01-02</th>\n",
       "      <td>1969</td>\n",
       "      <td>1</td>\n",
       "      <td>2</td>\n",
       "      <td>M</td>\n",
       "      <td>4548</td>\n",
       "      <td>1960</td>\n",
       "      <td>3</td>\n",
       "    </tr>\n",
       "    <tr>\n",
       "      <th>1969-01-03</th>\n",
       "      <td>1969</td>\n",
       "      <td>1</td>\n",
       "      <td>3</td>\n",
       "      <td>F</td>\n",
       "      <td>4548</td>\n",
       "      <td>1960</td>\n",
       "      <td>4</td>\n",
       "    </tr>\n",
       "  </tbody>\n",
       "</table>\n",
       "</div>"
      ],
      "text/plain": [
       "            year  month  day gender  births  decade  dayofweek\n",
       "1969-01-01  1969      1    1      F    4046    1960          2\n",
       "1969-01-01  1969      1    1      M    4440    1960          2\n",
       "1969-01-02  1969      1    2      F    4454    1960          3\n",
       "1969-01-02  1969      1    2      M    4548    1960          3\n",
       "1969-01-03  1969      1    3      F    4548    1960          4"
      ]
     },
     "execution_count": 75,
     "metadata": {},
     "output_type": "execute_result"
    }
   ],
   "source": [
    "births.head()"
   ]
  },
  {
   "cell_type": "code",
   "execution_count": 77,
   "metadata": {},
   "outputs": [],
   "source": [
    "Month={1:'January',2:'February',3:'March',4:'April',5:'May',6:'June',7:'July',8:'August',9:'September',10:'October',11:'November',12:'December'}"
   ]
  },
  {
   "cell_type": "code",
   "execution_count": 85,
   "metadata": {},
   "outputs": [
    {
     "data": {
      "text/plain": [
       "1969-01-01     January\n",
       "1969-01-01     January\n",
       "1969-01-02     January\n",
       "1969-01-02     January\n",
       "1969-01-03     January\n",
       "                ...   \n",
       "1988-12-29    December\n",
       "1988-12-30    December\n",
       "1988-12-30    December\n",
       "1988-12-31    December\n",
       "1988-12-31    December\n",
       "Name: month, Length: 14610, dtype: object"
      ]
     },
     "execution_count": 85,
     "metadata": {},
     "output_type": "execute_result"
    }
   ],
   "source": [
    "births['month'].apply(lambda x:Month[x])"
   ]
  },
  {
   "cell_type": "code",
   "execution_count": 87,
   "metadata": {},
   "outputs": [
    {
     "data": {
      "image/png": "[encoded data removed]",
      "text/plain": [
       "<matplotlib.figure.Figure at 0x26c79fc5470>"
      ]
     },
     "metadata": {
      "needs_background": "light"
     },
     "output_type": "display_data"
    }
   ],
   "source": [
    "import matplotlib.pyplot as plt\n",
    "import matplotlib as mpl\n",
    "births.pivot_table('births', index='dayofweek',\n",
    "columns='decade', aggfunc='mean').plot()\n",
    "plt.gca().set_xticklabels(['Mon', 'Tues', 'Wed', 'Thurs', 'Fri', 'Sat', 'Sun'])\n",
    "plt.ylabel('mean births by day');"
   ]
  },
  {
   "cell_type": "code",
   "execution_count": 88,
   "metadata": {},
   "outputs": [],
   "source": [
    "births_by_date=births.pivot_table('births',[births.index.month,births.index.day])"
   ]
  },
  {
   "cell_type": "code",
   "execution_count": 90,
   "metadata": {},
   "outputs": [
    {
     "data": {
      "text/html": [
       "<div>\n",
       "<style scoped>\n",
       "    .dataframe tbody tr th:only-of-type {\n",
       "        vertical-align: middle;\n",
       "    }\n",
       "\n",
       "    .dataframe tbody tr th {\n",
       "        vertical-align: top;\n",
       "    }\n",
       "\n",
       "    .dataframe thead tr th {\n",
       "        text-align: left;\n",
       "    }\n",
       "</style>\n",
       "<table border=\"1\" class=\"dataframe\">\n",
       "  <thead>\n",
       "    <tr>\n",
       "      <th></th>\n",
       "      <th colspan=\"21\" halign=\"left\">births</th>\n",
       "    </tr>\n",
       "    <tr>\n",
       "      <th></th>\n",
       "      <th>1</th>\n",
       "      <th>2</th>\n",
       "      <th>3</th>\n",
       "      <th>4</th>\n",
       "      <th>5</th>\n",
       "      <th>6</th>\n",
       "      <th>7</th>\n",
       "      <th>8</th>\n",
       "      <th>9</th>\n",
       "      <th>10</th>\n",
       "      <th>...</th>\n",
       "      <th>22</th>\n",
       "      <th>23</th>\n",
       "      <th>24</th>\n",
       "      <th>25</th>\n",
       "      <th>26</th>\n",
       "      <th>27</th>\n",
       "      <th>28</th>\n",
       "      <th>29</th>\n",
       "      <th>30</th>\n",
       "      <th>31</th>\n",
       "    </tr>\n",
       "  </thead>\n",
       "  <tbody>\n",
       "    <tr>\n",
       "      <th>1</th>\n",
       "      <td>4009.225</td>\n",
       "      <td>4247.400</td>\n",
       "      <td>4500.900</td>\n",
       "      <td>4571.350</td>\n",
       "      <td>4603.625</td>\n",
       "      <td>4668.150</td>\n",
       "      <td>4706.925</td>\n",
       "      <td>4629.650</td>\n",
       "      <td>4537.775</td>\n",
       "      <td>4591.700</td>\n",
       "      <td>...</td>\n",
       "      <td>4742.800</td>\n",
       "      <td>4666.750</td>\n",
       "      <td>4653.200</td>\n",
       "      <td>4698.000</td>\n",
       "      <td>4715.900</td>\n",
       "      <td>4747.025</td>\n",
       "      <td>4771.800</td>\n",
       "      <td>4702.300</td>\n",
       "      <td>4644.225</td>\n",
       "      <td>4598.275</td>\n",
       "    </tr>\n",
       "    <tr>\n",
       "      <th>2</th>\n",
       "      <td>4661.450</td>\n",
       "      <td>4743.025</td>\n",
       "      <td>4761.825</td>\n",
       "      <td>4760.825</td>\n",
       "      <td>4728.300</td>\n",
       "      <td>4678.100</td>\n",
       "      <td>4649.650</td>\n",
       "      <td>4668.525</td>\n",
       "      <td>4713.575</td>\n",
       "      <td>4800.850</td>\n",
       "      <td>...</td>\n",
       "      <td>4751.525</td>\n",
       "      <td>4757.450</td>\n",
       "      <td>4829.000</td>\n",
       "      <td>4857.025</td>\n",
       "      <td>4790.575</td>\n",
       "      <td>4693.750</td>\n",
       "      <td>4695.300</td>\n",
       "      <td>4623.400</td>\n",
       "      <td>NaN</td>\n",
       "      <td>NaN</td>\n",
       "    </tr>\n",
       "    <tr>\n",
       "      <th>3</th>\n",
       "      <td>4742.175</td>\n",
       "      <td>4750.550</td>\n",
       "      <td>4871.775</td>\n",
       "      <td>4821.550</td>\n",
       "      <td>4781.600</td>\n",
       "      <td>4721.875</td>\n",
       "      <td>4722.450</td>\n",
       "      <td>4718.225</td>\n",
       "      <td>4692.075</td>\n",
       "      <td>4785.375</td>\n",
       "      <td>...</td>\n",
       "      <td>4667.200</td>\n",
       "      <td>4697.200</td>\n",
       "      <td>4725.050</td>\n",
       "      <td>4773.650</td>\n",
       "      <td>4722.825</td>\n",
       "      <td>4680.850</td>\n",
       "      <td>4694.650</td>\n",
       "      <td>4665.025</td>\n",
       "      <td>4663.425</td>\n",
       "      <td>4723.250</td>\n",
       "    </tr>\n",
       "    <tr>\n",
       "      <th>4</th>\n",
       "      <td>4623.825</td>\n",
       "      <td>4743.825</td>\n",
       "      <td>4652.925</td>\n",
       "      <td>4679.525</td>\n",
       "      <td>4586.825</td>\n",
       "      <td>4642.850</td>\n",
       "      <td>4689.850</td>\n",
       "      <td>4712.025</td>\n",
       "      <td>4649.875</td>\n",
       "      <td>4610.675</td>\n",
       "      <td>...</td>\n",
       "      <td>4686.700</td>\n",
       "      <td>4643.725</td>\n",
       "      <td>4581.150</td>\n",
       "      <td>4602.250</td>\n",
       "      <td>4588.500</td>\n",
       "      <td>4571.950</td>\n",
       "      <td>4656.550</td>\n",
       "      <td>4613.250</td>\n",
       "      <td>4615.100</td>\n",
       "      <td>NaN</td>\n",
       "    </tr>\n",
       "    <tr>\n",
       "      <th>5</th>\n",
       "      <td>4651.275</td>\n",
       "      <td>4616.700</td>\n",
       "      <td>4570.225</td>\n",
       "      <td>4577.000</td>\n",
       "      <td>4687.300</td>\n",
       "      <td>4678.950</td>\n",
       "      <td>4658.950</td>\n",
       "      <td>4623.750</td>\n",
       "      <td>4608.850</td>\n",
       "      <td>4623.175</td>\n",
       "      <td>...</td>\n",
       "      <td>4713.500</td>\n",
       "      <td>4721.100</td>\n",
       "      <td>4689.125</td>\n",
       "      <td>4661.925</td>\n",
       "      <td>4657.750</td>\n",
       "      <td>4738.150</td>\n",
       "      <td>4671.650</td>\n",
       "      <td>4704.050</td>\n",
       "      <td>4601.175</td>\n",
       "      <td>4597.050</td>\n",
       "    </tr>\n",
       "    <tr>\n",
       "      <th>6</th>\n",
       "      <td>4751.475</td>\n",
       "      <td>4804.650</td>\n",
       "      <td>4783.275</td>\n",
       "      <td>4744.475</td>\n",
       "      <td>4706.875</td>\n",
       "      <td>4771.850</td>\n",
       "      <td>4681.050</td>\n",
       "      <td>4681.950</td>\n",
       "      <td>4784.275</td>\n",
       "      <td>4831.375</td>\n",
       "      <td>...</td>\n",
       "      <td>4795.625</td>\n",
       "      <td>4850.550</td>\n",
       "      <td>4897.525</td>\n",
       "      <td>4890.925</td>\n",
       "      <td>4853.975</td>\n",
       "      <td>4852.325</td>\n",
       "      <td>4862.975</td>\n",
       "      <td>4881.650</td>\n",
       "      <td>4981.600</td>\n",
       "      <td>NaN</td>\n",
       "    </tr>\n",
       "    <tr>\n",
       "      <th>7</th>\n",
       "      <td>5021.975</td>\n",
       "      <td>5021.450</td>\n",
       "      <td>4869.425</td>\n",
       "      <td>4335.325</td>\n",
       "      <td>4698.825</td>\n",
       "      <td>4984.500</td>\n",
       "      <td>5153.425</td>\n",
       "      <td>5159.800</td>\n",
       "      <td>5075.400</td>\n",
       "      <td>5041.300</td>\n",
       "      <td>...</td>\n",
       "      <td>5135.675</td>\n",
       "      <td>5092.275</td>\n",
       "      <td>5036.050</td>\n",
       "      <td>5029.325</td>\n",
       "      <td>4998.700</td>\n",
       "      <td>5070.250</td>\n",
       "      <td>5133.525</td>\n",
       "      <td>5151.900</td>\n",
       "      <td>5101.225</td>\n",
       "      <td>5045.275</td>\n",
       "    </tr>\n",
       "    <tr>\n",
       "      <th>8</th>\n",
       "      <td>5068.000</td>\n",
       "      <td>5008.525</td>\n",
       "      <td>5065.250</td>\n",
       "      <td>5087.950</td>\n",
       "      <td>5108.000</td>\n",
       "      <td>5110.925</td>\n",
       "      <td>5082.675</td>\n",
       "      <td>5153.575</td>\n",
       "      <td>5027.775</td>\n",
       "      <td>5083.375</td>\n",
       "      <td>...</td>\n",
       "      <td>5058.850</td>\n",
       "      <td>5007.050</td>\n",
       "      <td>5035.200</td>\n",
       "      <td>5107.675</td>\n",
       "      <td>5167.500</td>\n",
       "      <td>5124.700</td>\n",
       "      <td>5099.775</td>\n",
       "      <td>5062.000</td>\n",
       "      <td>5027.850</td>\n",
       "      <td>5048.650</td>\n",
       "    </tr>\n",
       "    <tr>\n",
       "      <th>9</th>\n",
       "      <td>4908.325</td>\n",
       "      <td>4982.000</td>\n",
       "      <td>5003.925</td>\n",
       "      <td>5013.400</td>\n",
       "      <td>4954.600</td>\n",
       "      <td>4955.000</td>\n",
       "      <td>4995.450</td>\n",
       "      <td>5165.475</td>\n",
       "      <td>5263.400</td>\n",
       "      <td>5214.500</td>\n",
       "      <td>...</td>\n",
       "      <td>5316.825</td>\n",
       "      <td>5320.425</td>\n",
       "      <td>5284.050</td>\n",
       "      <td>5240.000</td>\n",
       "      <td>5250.650</td>\n",
       "      <td>5190.150</td>\n",
       "      <td>5168.450</td>\n",
       "      <td>5218.825</td>\n",
       "      <td>5224.775</td>\n",
       "      <td>NaN</td>\n",
       "    </tr>\n",
       "    <tr>\n",
       "      <th>10</th>\n",
       "      <td>5167.325</td>\n",
       "      <td>5103.625</td>\n",
       "      <td>5067.375</td>\n",
       "      <td>5005.175</td>\n",
       "      <td>5025.075</td>\n",
       "      <td>5048.100</td>\n",
       "      <td>5024.100</td>\n",
       "      <td>4989.875</td>\n",
       "      <td>4945.425</td>\n",
       "      <td>4975.975</td>\n",
       "      <td>...</td>\n",
       "      <td>4810.250</td>\n",
       "      <td>4755.500</td>\n",
       "      <td>4758.775</td>\n",
       "      <td>4744.350</td>\n",
       "      <td>4788.050</td>\n",
       "      <td>4821.350</td>\n",
       "      <td>4826.100</td>\n",
       "      <td>4775.575</td>\n",
       "      <td>4745.050</td>\n",
       "      <td>4662.800</td>\n",
       "    </tr>\n",
       "    <tr>\n",
       "      <th>11</th>\n",
       "      <td>4729.800</td>\n",
       "      <td>4727.150</td>\n",
       "      <td>4821.775</td>\n",
       "      <td>4849.400</td>\n",
       "      <td>4808.075</td>\n",
       "      <td>4758.475</td>\n",
       "      <td>4783.175</td>\n",
       "      <td>4752.750</td>\n",
       "      <td>4784.125</td>\n",
       "      <td>4836.300</td>\n",
       "      <td>...</td>\n",
       "      <td>4601.900</td>\n",
       "      <td>4650.650</td>\n",
       "      <td>4647.125</td>\n",
       "      <td>4649.800</td>\n",
       "      <td>4587.250</td>\n",
       "      <td>4511.550</td>\n",
       "      <td>4590.775</td>\n",
       "      <td>4676.725</td>\n",
       "      <td>4765.475</td>\n",
       "      <td>NaN</td>\n",
       "    </tr>\n",
       "    <tr>\n",
       "      <th>12</th>\n",
       "      <td>4836.500</td>\n",
       "      <td>4830.300</td>\n",
       "      <td>4758.500</td>\n",
       "      <td>4718.725</td>\n",
       "      <td>4734.675</td>\n",
       "      <td>4683.050</td>\n",
       "      <td>4704.325</td>\n",
       "      <td>4803.800</td>\n",
       "      <td>4793.825</td>\n",
       "      <td>4785.325</td>\n",
       "      <td>...</td>\n",
       "      <td>4661.925</td>\n",
       "      <td>4466.675</td>\n",
       "      <td>4126.250</td>\n",
       "      <td>3844.450</td>\n",
       "      <td>4383.525</td>\n",
       "      <td>4850.150</td>\n",
       "      <td>5044.200</td>\n",
       "      <td>5120.150</td>\n",
       "      <td>5172.350</td>\n",
       "      <td>4859.200</td>\n",
       "    </tr>\n",
       "  </tbody>\n",
       "</table>\n",
       "<p>12 rows × 31 columns</p>\n",
       "</div>"
      ],
      "text/plain": [
       "      births                                                              \\\n",
       "          1         2         3         4         5         6         7    \n",
       "1   4009.225  4247.400  4500.900  4571.350  4603.625  4668.150  4706.925   \n",
       "2   4661.450  4743.025  4761.825  4760.825  4728.300  4678.100  4649.650   \n",
       "3   4742.175  4750.550  4871.775  4821.550  4781.600  4721.875  4722.450   \n",
       "4   4623.825  4743.825  4652.925  4679.525  4586.825  4642.850  4689.850   \n",
       "5   4651.275  4616.700  4570.225  4577.000  4687.300  4678.950  4658.950   \n",
       "6   4751.475  4804.650  4783.275  4744.475  4706.875  4771.850  4681.050   \n",
       "7   5021.975  5021.450  4869.425  4335.325  4698.825  4984.500  5153.425   \n",
       "8   5068.000  5008.525  5065.250  5087.950  5108.000  5110.925  5082.675   \n",
       "9   4908.325  4982.000  5003.925  5013.400  4954.600  4955.000  4995.450   \n",
       "10  5167.325  5103.625  5067.375  5005.175  5025.075  5048.100  5024.100   \n",
       "11  4729.800  4727.150  4821.775  4849.400  4808.075  4758.475  4783.175   \n",
       "12  4836.500  4830.300  4758.500  4718.725  4734.675  4683.050  4704.325   \n",
       "\n",
       "                                  ...                                          \\\n",
       "          8         9         10  ...        22        23        24        25   \n",
       "1   4629.650  4537.775  4591.700  ...  4742.800  4666.750  4653.200  4698.000   \n",
       "2   4668.525  4713.575  4800.850  ...  4751.525  4757.450  4829.000  4857.025   \n",
       "3   4718.225  4692.075  4785.375  ...  4667.200  4697.200  4725.050  4773.650   \n",
       "4   4712.025  4649.875  4610.675  ...  4686.700  4643.725  4581.150  4602.250   \n",
       "5   4623.750  4608.850  4623.175  ...  4713.500  4721.100  4689.125  4661.925   \n",
       "6   4681.950  4784.275  4831.375  ...  4795.625  4850.550  4897.525  4890.925   \n",
       "7   5159.800  5075.400  5041.300  ...  5135.675  5092.275  5036.050  5029.325   \n",
       "8   5153.575  5027.775  5083.375  ...  5058.850  5007.050  5035.200  5107.675   \n",
       "9   5165.475  5263.400  5214.500  ...  5316.825  5320.425  5284.050  5240.000   \n",
       "10  4989.875  4945.425  4975.975  ...  4810.250  4755.500  4758.775  4744.350   \n",
       "11  4752.750  4784.125  4836.300  ...  4601.900  4650.650  4647.125  4649.800   \n",
       "12  4803.800  4793.825  4785.325  ...  4661.925  4466.675  4126.250  3844.450   \n",
       "\n",
       "                                                                \n",
       "          26        27        28        29        30        31  \n",
       "1   4715.900  4747.025  4771.800  4702.300  4644.225  4598.275  \n",
       "2   4790.575  4693.750  4695.300  4623.400       NaN       NaN  \n",
       "3   4722.825  4680.850  4694.650  4665.025  4663.425  4723.250  \n",
       "4   4588.500  4571.950  4656.550  4613.250  4615.100       NaN  \n",
       "5   4657.750  4738.150  4671.650  4704.050  4601.175  4597.050  \n",
       "6   4853.975  4852.325  4862.975  4881.650  4981.600       NaN  \n",
       "7   4998.700  5070.250  5133.525  5151.900  5101.225  5045.275  \n",
       "8   5167.500  5124.700  5099.775  5062.000  5027.850  5048.650  \n",
       "9   5250.650  5190.150  5168.450  5218.825  5224.775       NaN  \n",
       "10  4788.050  4821.350  4826.100  4775.575  4745.050  4662.800  \n",
       "11  4587.250  4511.550  4590.775  4676.725  4765.475       NaN  \n",
       "12  4383.525  4850.150  5044.200  5120.150  5172.350  4859.200  \n",
       "\n",
       "[12 rows x 31 columns]"
      ]
     },
     "execution_count": 90,
     "metadata": {},
     "output_type": "execute_result"
    }
   ],
   "source": [
    "births_by_date.unstack()"
   ]
  },
  {
   "cell_type": "code",
   "execution_count": 91,
   "metadata": {},
   "outputs": [],
   "source": [
    "births_by_date.index=[pd.datetime(2012,month,day) for (month,day) in births_by_date.index]"
   ]
  },
  {
   "cell_type": "code",
   "execution_count": 92,
   "metadata": {},
   "outputs": [
    {
     "data": {
      "text/html": [
       "<div>\n",
       "<style scoped>\n",
       "    .dataframe tbody tr th:only-of-type {\n",
       "        vertical-align: middle;\n",
       "    }\n",
       "\n",
       "    .dataframe tbody tr th {\n",
       "        vertical-align: top;\n",
       "    }\n",
       "\n",
       "    .dataframe thead th {\n",
       "        text-align: right;\n",
       "    }\n",
       "</style>\n",
       "<table border=\"1\" class=\"dataframe\">\n",
       "  <thead>\n",
       "    <tr style=\"text-align: right;\">\n",
       "      <th></th>\n",
       "      <th>births</th>\n",
       "    </tr>\n",
       "  </thead>\n",
       "  <tbody>\n",
       "    <tr>\n",
       "      <th>2012-01-01</th>\n",
       "      <td>4009.225</td>\n",
       "    </tr>\n",
       "    <tr>\n",
       "      <th>2012-01-02</th>\n",
       "      <td>4247.400</td>\n",
       "    </tr>\n",
       "    <tr>\n",
       "      <th>2012-01-03</th>\n",
       "      <td>4500.900</td>\n",
       "    </tr>\n",
       "    <tr>\n",
       "      <th>2012-01-04</th>\n",
       "      <td>4571.350</td>\n",
       "    </tr>\n",
       "    <tr>\n",
       "      <th>2012-01-05</th>\n",
       "      <td>4603.625</td>\n",
       "    </tr>\n",
       "  </tbody>\n",
       "</table>\n",
       "</div>"
      ],
      "text/plain": [
       "              births\n",
       "2012-01-01  4009.225\n",
       "2012-01-02  4247.400\n",
       "2012-01-03  4500.900\n",
       "2012-01-04  4571.350\n",
       "2012-01-05  4603.625"
      ]
     },
     "execution_count": 92,
     "metadata": {},
     "output_type": "execute_result"
    }
   ],
   "source": [
    "births_by_date.head()"
   ]
  },
  {
   "cell_type": "code",
   "execution_count": 93,
   "metadata": {},
   "outputs": [
    {
     "data": {
      "image/png": "[encoded data removed]",
      "text/plain": [
       "<matplotlib.figure.Figure at 0x26c7b697710>"
      ]
     },
     "metadata": {
      "needs_background": "light"
     },
     "output_type": "display_data"
    }
   ],
   "source": [
    "fig,ax=plt.subplots(figsize=(12,4))\n",
    "births_by_date.plot(ax=ax);"
   ]
  },
  {
   "cell_type": "markdown",
   "metadata": {},
   "source": [
    "## Vectorized String Operations"
   ]
  },
  {
   "cell_type": "code",
   "execution_count": 94,
   "metadata": {},
   "outputs": [
    {
     "data": {
      "text/plain": [
       "array([ 2,  3,  4,  6, 12, 13])"
      ]
     },
     "execution_count": 94,
     "metadata": {},
     "output_type": "execute_result"
    }
   ],
   "source": [
    "x=np.array([2,3,4,6,12,13])\n",
    "x"
   ]
  },
  {
   "cell_type": "code",
   "execution_count": 98,
   "metadata": {},
   "outputs": [
    {
     "data": {
      "text/plain": [
       "array([  4,   9,  16,  36, 144, 169], dtype=int32)"
      ]
     },
     "execution_count": 98,
     "metadata": {},
     "output_type": "execute_result"
    }
   ],
   "source": [
    "x**2"
   ]
  },
  {
   "cell_type": "code",
   "execution_count": 99,
   "metadata": {},
   "outputs": [],
   "source": [
    "data=['peter','Paul','Mary','gUIDO']"
   ]
  },
  {
   "cell_type": "code",
   "execution_count": 100,
   "metadata": {},
   "outputs": [
    {
     "data": {
      "text/plain": [
       "['peter', 'Paul', 'Mary', 'gUIDO']"
      ]
     },
     "execution_count": 100,
     "metadata": {},
     "output_type": "execute_result"
    }
   ],
   "source": [
    "data"
   ]
  },
  {
   "cell_type": "code",
   "execution_count": 120,
   "metadata": {},
   "outputs": [
    {
     "data": {
      "text/plain": [
       "['Peter', 'Paul', 'Mary', 'Guido']"
      ]
     },
     "execution_count": 120,
     "metadata": {},
     "output_type": "execute_result"
    }
   ],
   "source": [
    "[i.capitalize() for i in data]"
   ]
  },
  {
   "cell_type": "code",
   "execution_count": 121,
   "metadata": {},
   "outputs": [
    {
     "data": {
      "text/plain": [
       "['peter', 'paul', 'mary', 'guido']"
      ]
     },
     "execution_count": 121,
     "metadata": {},
     "output_type": "execute_result"
    }
   ],
   "source": [
    "[i.lower() for i in data]"
   ]
  },
  {
   "cell_type": "code",
   "execution_count": 122,
   "metadata": {},
   "outputs": [
    {
     "data": {
      "text/plain": [
       "['PETER', 'PAUL', 'MARY', 'GUIDO']"
      ]
     },
     "execution_count": 122,
     "metadata": {},
     "output_type": "execute_result"
    }
   ],
   "source": [
    "[i.upper() for i in data]"
   ]
  },
  {
   "cell_type": "code",
   "execution_count": 123,
   "metadata": {},
   "outputs": [],
   "source": [
    "names=pd.Series(data)"
   ]
  },
  {
   "cell_type": "code",
   "execution_count": 125,
   "metadata": {},
   "outputs": [
    {
     "data": {
      "text/plain": [
       "0    Peter\n",
       "1     Paul\n",
       "2     Mary\n",
       "3    Guido\n",
       "dtype: object"
      ]
     },
     "execution_count": 125,
     "metadata": {},
     "output_type": "execute_result"
    }
   ],
   "source": [
    "names.str.capitalize()"
   ]
  },
  {
   "cell_type": "markdown",
   "metadata": {},
   "source": [
    "### Methods similar to Python string methods\n",
    "#### len() lower() translate() islower()\n",
    "#### ljust() upper() startswith() isupper()\n",
    "#### rjust() find() endswith() isnumeric()\n",
    "#### center() rfind() isalnum() isdecimal()\n",
    "#### zfill() index() isalpha() split()\n",
    "#### strip() rindex() isdigit() rsplit()\n",
    "#### rstrip() capitalize() isspace() partition()\n",
    "#### lstrip() swapcase() istitle() rpartition()"
   ]
  },
  {
   "cell_type": "code",
   "execution_count": 145,
   "metadata": {},
   "outputs": [],
   "source": [
    "def Regex(txt):\n",
    "    txt=re.match('^g',txt).string\n",
    "    return txt"
   ]
  },
  {
   "cell_type": "code",
   "execution_count": 142,
   "metadata": {},
   "outputs": [
    {
     "data": {
      "text/plain": [
       "['peter', 'Paul', 'Mary', 'gUIDO']"
      ]
     },
     "execution_count": 142,
     "metadata": {},
     "output_type": "execute_result"
    }
   ],
   "source": [
    "data"
   ]
  },
  {
   "cell_type": "code",
   "execution_count": 160,
   "metadata": {},
   "outputs": [],
   "source": [
    "monte = pd.Series(['Graham Chapman', 'John Cleese', 'Terry Gilliam',\n",
    "'Eric Idle', 'Terry Jones', 'Michael Palin'])"
   ]
  },
  {
   "cell_type": "code",
   "execution_count": 165,
   "metadata": {},
   "outputs": [
    {
     "data": {
      "text/plain": [
       "0    Graham chapman\n",
       "1       John cleese\n",
       "2     Terry gilliam\n",
       "3         Eric idle\n",
       "4       Terry jones\n",
       "5     Michael palin\n",
       "dtype: object"
      ]
     },
     "execution_count": 165,
     "metadata": {},
     "output_type": "execute_result"
    }
   ],
   "source": [
    "monte.str.capitalize()"
   ]
  },
  {
   "cell_type": "code",
   "execution_count": 172,
   "metadata": {},
   "outputs": [
    {
     "data": {
      "text/plain": [
       "{'Eric Idle': 9,\n",
       " 'Graham Chapman': 14,\n",
       " 'John Cleese': 11,\n",
       " 'Michael Palin': 13,\n",
       " 'Terry Gilliam': 13,\n",
       " 'Terry Jones': 11}"
      ]
     },
     "execution_count": 172,
     "metadata": {},
     "output_type": "execute_result"
    }
   ],
   "source": [
    "\n",
    "{i:len(i) for i in monte}"
   ]
  },
  {
   "cell_type": "code",
   "execution_count": 173,
   "metadata": {},
   "outputs": [
    {
     "data": {
      "text/plain": [
       "0    14\n",
       "1    11\n",
       "2    13\n",
       "3     9\n",
       "4    11\n",
       "5    13\n",
       "dtype: int64"
      ]
     },
     "execution_count": 173,
     "metadata": {},
     "output_type": "execute_result"
    }
   ],
   "source": [
    "monte.str.len()"
   ]
  },
  {
   "cell_type": "markdown",
   "metadata": {},
   "source": [
    "#### match() Call re.match() on each element, returning a Boolean.\n",
    "#### extract() Call re.match() on each element, returning matched groups as strings.\n",
    "#### findall() Call re.findall() on each element.\n",
    "#### replace() Replace occurrences of pattern with some other string.\n",
    "#### contains() Call re.search() on each element, returning a Boolean.\n",
    "#### count() Count occurrences of pattern.\n",
    "#### split() Equivalent to str.split(), but accepts regexps.\n",
    "#### rsplit() Equivalent to str.rsplit(), but accepts regexps."
   ]
  },
  {
   "cell_type": "code",
   "execution_count": 179,
   "metadata": {},
   "outputs": [
    {
     "data": {
      "text/plain": [
       "0    Graham Chapman\n",
       "5     Michael Palin\n",
       "dtype: object"
      ]
     },
     "execution_count": 179,
     "metadata": {},
     "output_type": "execute_result"
    }
   ],
   "source": [
    "monte[monte.str.contains('ha')]"
   ]
  },
  {
   "cell_type": "markdown",
   "metadata": {},
   "source": [
    "#### get() Index each element\n",
    "#### slice() Slice each element\n",
    "#### slice_replace() Replace slice in each element with passed value\n",
    "#### cat() Concatenate strings\n",
    "#### repeat() Repeat values\n",
    "#### normalize() Return Unicode form of string\n",
    "#### pad() Add whitespace to left, right, or both sides of strings\n",
    "#### wrap() Split long strings into lines with length less than a given width\n",
    "#### join() Join strings in each element of the Series with passed separator\n",
    "#### get_dummies() Extract dummy variables as a DataFrame"
   ]
  },
  {
   "cell_type": "code",
   "execution_count": 213,
   "metadata": {},
   "outputs": [],
   "source": [
    "full_monte = pd.DataFrame({'name': monte,\n",
    "'info': ['B|C|D', 'B|D', 'A|C', 'B|D', 'B|C',\n",
    "'B|C|D']})"
   ]
  },
  {
   "cell_type": "code",
   "execution_count": 214,
   "metadata": {},
   "outputs": [
    {
     "data": {
      "text/html": [
       "<div>\n",
       "<style scoped>\n",
       "    .dataframe tbody tr th:only-of-type {\n",
       "        vertical-align: middle;\n",
       "    }\n",
       "\n",
       "    .dataframe tbody tr th {\n",
       "        vertical-align: top;\n",
       "    }\n",
       "\n",
       "    .dataframe thead th {\n",
       "        text-align: right;\n",
       "    }\n",
       "</style>\n",
       "<table border=\"1\" class=\"dataframe\">\n",
       "  <thead>\n",
       "    <tr style=\"text-align: right;\">\n",
       "      <th></th>\n",
       "      <th>name</th>\n",
       "      <th>info</th>\n",
       "    </tr>\n",
       "  </thead>\n",
       "  <tbody>\n",
       "    <tr>\n",
       "      <th>0</th>\n",
       "      <td>Graham Chapman</td>\n",
       "      <td>B|C|D</td>\n",
       "    </tr>\n",
       "    <tr>\n",
       "      <th>1</th>\n",
       "      <td>John Cleese</td>\n",
       "      <td>B|D</td>\n",
       "    </tr>\n",
       "    <tr>\n",
       "      <th>2</th>\n",
       "      <td>Terry Gilliam</td>\n",
       "      <td>A|C</td>\n",
       "    </tr>\n",
       "    <tr>\n",
       "      <th>3</th>\n",
       "      <td>Eric Idle</td>\n",
       "      <td>B|D</td>\n",
       "    </tr>\n",
       "    <tr>\n",
       "      <th>4</th>\n",
       "      <td>Terry Jones</td>\n",
       "      <td>B|C</td>\n",
       "    </tr>\n",
       "    <tr>\n",
       "      <th>5</th>\n",
       "      <td>Michael Palin</td>\n",
       "      <td>B|C|D</td>\n",
       "    </tr>\n",
       "  </tbody>\n",
       "</table>\n",
       "</div>"
      ],
      "text/plain": [
       "             name   info\n",
       "0  Graham Chapman  B|C|D\n",
       "1     John Cleese    B|D\n",
       "2   Terry Gilliam    A|C\n",
       "3       Eric Idle    B|D\n",
       "4     Terry Jones    B|C\n",
       "5   Michael Palin  B|C|D"
      ]
     },
     "execution_count": 214,
     "metadata": {},
     "output_type": "execute_result"
    }
   ],
   "source": [
    "full_monte"
   ]
  },
  {
   "cell_type": "markdown",
   "metadata": {},
   "source": [
    "#### The get_dummies() routine lets you quickly split out these indicator variables into a"
   ]
  },
  {
   "cell_type": "code",
   "execution_count": 216,
   "metadata": {},
   "outputs": [
    {
     "data": {
      "text/html": [
       "<div>\n",
       "<style scoped>\n",
       "    .dataframe tbody tr th:only-of-type {\n",
       "        vertical-align: middle;\n",
       "    }\n",
       "\n",
       "    .dataframe tbody tr th {\n",
       "        vertical-align: top;\n",
       "    }\n",
       "\n",
       "    .dataframe thead th {\n",
       "        text-align: right;\n",
       "    }\n",
       "</style>\n",
       "<table border=\"1\" class=\"dataframe\">\n",
       "  <thead>\n",
       "    <tr style=\"text-align: right;\">\n",
       "      <th></th>\n",
       "      <th>A</th>\n",
       "      <th>B</th>\n",
       "      <th>C</th>\n",
       "      <th>D</th>\n",
       "    </tr>\n",
       "  </thead>\n",
       "  <tbody>\n",
       "    <tr>\n",
       "      <th>0</th>\n",
       "      <td>0</td>\n",
       "      <td>1</td>\n",
       "      <td>1</td>\n",
       "      <td>1</td>\n",
       "    </tr>\n",
       "    <tr>\n",
       "      <th>1</th>\n",
       "      <td>0</td>\n",
       "      <td>1</td>\n",
       "      <td>0</td>\n",
       "      <td>1</td>\n",
       "    </tr>\n",
       "    <tr>\n",
       "      <th>2</th>\n",
       "      <td>1</td>\n",
       "      <td>0</td>\n",
       "      <td>1</td>\n",
       "      <td>0</td>\n",
       "    </tr>\n",
       "    <tr>\n",
       "      <th>3</th>\n",
       "      <td>0</td>\n",
       "      <td>1</td>\n",
       "      <td>0</td>\n",
       "      <td>1</td>\n",
       "    </tr>\n",
       "    <tr>\n",
       "      <th>4</th>\n",
       "      <td>0</td>\n",
       "      <td>1</td>\n",
       "      <td>1</td>\n",
       "      <td>0</td>\n",
       "    </tr>\n",
       "    <tr>\n",
       "      <th>5</th>\n",
       "      <td>0</td>\n",
       "      <td>1</td>\n",
       "      <td>1</td>\n",
       "      <td>1</td>\n",
       "    </tr>\n",
       "  </tbody>\n",
       "</table>\n",
       "</div>"
      ],
      "text/plain": [
       "   A  B  C  D\n",
       "0  0  1  1  1\n",
       "1  0  1  0  1\n",
       "2  1  0  1  0\n",
       "3  0  1  0  1\n",
       "4  0  1  1  0\n",
       "5  0  1  1  1"
      ]
     },
     "execution_count": 216,
     "metadata": {},
     "output_type": "execute_result"
    }
   ],
   "source": [
    "full_monte['info'].str.get_dummies('|')"
   ]
  },
  {
   "cell_type": "markdown",
   "metadata": {},
   "source": [
    "### get_dummies() function"
   ]
  },
  {
   "cell_type": "markdown",
   "metadata": {},
   "source": [
    "#### The get_dummies() function is used to convert categorical variable into dummy variable"
   ]
  },
  {
   "cell_type": "code",
   "execution_count": 1,
   "metadata": {},
   "outputs": [],
   "source": [
    "import numpy as np\n",
    "import pandas as pd\n",
    "s=pd.Series(list('pqrs'))"
   ]
  },
  {
   "cell_type": "code",
   "execution_count": 2,
   "metadata": {},
   "outputs": [
    {
     "data": {
      "text/plain": [
       "0    p\n",
       "1    q\n",
       "2    r\n",
       "3    s\n",
       "dtype: object"
      ]
     },
     "execution_count": 2,
     "metadata": {},
     "output_type": "execute_result"
    }
   ],
   "source": [
    "s\n"
   ]
  },
  {
   "cell_type": "code",
   "execution_count": 3,
   "metadata": {},
   "outputs": [
    {
     "data": {
      "text/html": [
       "<div>\n",
       "<style scoped>\n",
       "    .dataframe tbody tr th:only-of-type {\n",
       "        vertical-align: middle;\n",
       "    }\n",
       "\n",
       "    .dataframe tbody tr th {\n",
       "        vertical-align: top;\n",
       "    }\n",
       "\n",
       "    .dataframe thead th {\n",
       "        text-align: right;\n",
       "    }\n",
       "</style>\n",
       "<table border=\"1\" class=\"dataframe\">\n",
       "  <thead>\n",
       "    <tr style=\"text-align: right;\">\n",
       "      <th></th>\n",
       "      <th>p</th>\n",
       "      <th>q</th>\n",
       "      <th>r</th>\n",
       "      <th>s</th>\n",
       "    </tr>\n",
       "  </thead>\n",
       "  <tbody>\n",
       "    <tr>\n",
       "      <th>0</th>\n",
       "      <td>1</td>\n",
       "      <td>0</td>\n",
       "      <td>0</td>\n",
       "      <td>0</td>\n",
       "    </tr>\n",
       "    <tr>\n",
       "      <th>1</th>\n",
       "      <td>0</td>\n",
       "      <td>1</td>\n",
       "      <td>0</td>\n",
       "      <td>0</td>\n",
       "    </tr>\n",
       "    <tr>\n",
       "      <th>2</th>\n",
       "      <td>0</td>\n",
       "      <td>0</td>\n",
       "      <td>1</td>\n",
       "      <td>0</td>\n",
       "    </tr>\n",
       "    <tr>\n",
       "      <th>3</th>\n",
       "      <td>0</td>\n",
       "      <td>0</td>\n",
       "      <td>0</td>\n",
       "      <td>1</td>\n",
       "    </tr>\n",
       "  </tbody>\n",
       "</table>\n",
       "</div>"
      ],
      "text/plain": [
       "   p  q  r  s\n",
       "0  1  0  0  0\n",
       "1  0  1  0  0\n",
       "2  0  0  1  0\n",
       "3  0  0  0  1"
      ]
     },
     "execution_count": 3,
     "metadata": {},
     "output_type": "execute_result"
    }
   ],
   "source": [
    "pd.get_dummies(s)"
   ]
  },
  {
   "cell_type": "code",
   "execution_count": 5,
   "metadata": {},
   "outputs": [],
   "source": [
    "monte = pd.Series(['Graham Chapman', 'John Cleese', 'Terry Gilliam',\n",
    "'Eric Idle', 'Terry Jones', 'Michael Palin'])"
   ]
  },
  {
   "cell_type": "code",
   "execution_count": 6,
   "metadata": {},
   "outputs": [
    {
     "data": {
      "text/html": [
       "<div>\n",
       "<style scoped>\n",
       "    .dataframe tbody tr th:only-of-type {\n",
       "        vertical-align: middle;\n",
       "    }\n",
       "\n",
       "    .dataframe tbody tr th {\n",
       "        vertical-align: top;\n",
       "    }\n",
       "\n",
       "    .dataframe thead th {\n",
       "        text-align: right;\n",
       "    }\n",
       "</style>\n",
       "<table border=\"1\" class=\"dataframe\">\n",
       "  <thead>\n",
       "    <tr style=\"text-align: right;\">\n",
       "      <th></th>\n",
       "      <th>name</th>\n",
       "      <th>info</th>\n",
       "    </tr>\n",
       "  </thead>\n",
       "  <tbody>\n",
       "    <tr>\n",
       "      <th>0</th>\n",
       "      <td>Graham Chapman</td>\n",
       "      <td>B|C|D</td>\n",
       "    </tr>\n",
       "    <tr>\n",
       "      <th>1</th>\n",
       "      <td>John Cleese</td>\n",
       "      <td>B|D</td>\n",
       "    </tr>\n",
       "    <tr>\n",
       "      <th>2</th>\n",
       "      <td>Terry Gilliam</td>\n",
       "      <td>A|C</td>\n",
       "    </tr>\n",
       "    <tr>\n",
       "      <th>3</th>\n",
       "      <td>Eric Idle</td>\n",
       "      <td>B|D</td>\n",
       "    </tr>\n",
       "    <tr>\n",
       "      <th>4</th>\n",
       "      <td>Terry Jones</td>\n",
       "      <td>B|C</td>\n",
       "    </tr>\n",
       "    <tr>\n",
       "      <th>5</th>\n",
       "      <td>Michael Palin</td>\n",
       "      <td>B|C|D</td>\n",
       "    </tr>\n",
       "  </tbody>\n",
       "</table>\n",
       "</div>"
      ],
      "text/plain": [
       "             name   info\n",
       "0  Graham Chapman  B|C|D\n",
       "1     John Cleese    B|D\n",
       "2   Terry Gilliam    A|C\n",
       "3       Eric Idle    B|D\n",
       "4     Terry Jones    B|C\n",
       "5   Michael Palin  B|C|D"
      ]
     },
     "execution_count": 6,
     "metadata": {},
     "output_type": "execute_result"
    }
   ],
   "source": [
    "full_monte = pd.DataFrame({'name': monte,\n",
    "'info': ['B|C|D', 'B|D', 'A|C', 'B|D', 'B|C',\n",
    "'B|C|D']})\n",
    "full_monte"
   ]
  },
  {
   "cell_type": "code",
   "execution_count": 24,
   "metadata": {},
   "outputs": [
    {
     "data": {
      "text/html": [
       "<div>\n",
       "<style scoped>\n",
       "    .dataframe tbody tr th:only-of-type {\n",
       "        vertical-align: middle;\n",
       "    }\n",
       "\n",
       "    .dataframe tbody tr th {\n",
       "        vertical-align: top;\n",
       "    }\n",
       "\n",
       "    .dataframe thead th {\n",
       "        text-align: right;\n",
       "    }\n",
       "</style>\n",
       "<table border=\"1\" class=\"dataframe\">\n",
       "  <thead>\n",
       "    <tr style=\"text-align: right;\">\n",
       "      <th></th>\n",
       "      <th>A</th>\n",
       "      <th>B</th>\n",
       "      <th>C</th>\n",
       "      <th>D</th>\n",
       "    </tr>\n",
       "  </thead>\n",
       "  <tbody>\n",
       "    <tr>\n",
       "      <th>0</th>\n",
       "      <td>0</td>\n",
       "      <td>1</td>\n",
       "      <td>1</td>\n",
       "      <td>1</td>\n",
       "    </tr>\n",
       "    <tr>\n",
       "      <th>1</th>\n",
       "      <td>0</td>\n",
       "      <td>1</td>\n",
       "      <td>0</td>\n",
       "      <td>1</td>\n",
       "    </tr>\n",
       "    <tr>\n",
       "      <th>2</th>\n",
       "      <td>1</td>\n",
       "      <td>0</td>\n",
       "      <td>1</td>\n",
       "      <td>0</td>\n",
       "    </tr>\n",
       "    <tr>\n",
       "      <th>3</th>\n",
       "      <td>0</td>\n",
       "      <td>1</td>\n",
       "      <td>0</td>\n",
       "      <td>1</td>\n",
       "    </tr>\n",
       "    <tr>\n",
       "      <th>4</th>\n",
       "      <td>0</td>\n",
       "      <td>1</td>\n",
       "      <td>1</td>\n",
       "      <td>0</td>\n",
       "    </tr>\n",
       "    <tr>\n",
       "      <th>5</th>\n",
       "      <td>0</td>\n",
       "      <td>1</td>\n",
       "      <td>1</td>\n",
       "      <td>1</td>\n",
       "    </tr>\n",
       "  </tbody>\n",
       "</table>\n",
       "</div>"
      ],
      "text/plain": [
       "   A  B  C  D\n",
       "0  0  1  1  1\n",
       "1  0  1  0  1\n",
       "2  1  0  1  0\n",
       "3  0  1  0  1\n",
       "4  0  1  1  0\n",
       "5  0  1  1  1"
      ]
     },
     "execution_count": 24,
     "metadata": {},
     "output_type": "execute_result"
    }
   ],
   "source": [
    "full_monte['info'].str.get_dummies('|')"
   ]
  },
  {
   "cell_type": "code",
   "execution_count": 25,
   "metadata": {},
   "outputs": [],
   "source": [
    "a=['Orange', 'Banana','Mango']\n",
    "b=['Man','Alien','Human']\n",
    "c=['Cat','Tiger','Python']"
   ]
  },
  {
   "cell_type": "code",
   "execution_count": 27,
   "metadata": {},
   "outputs": [],
   "source": [
    "per=[[i,j,k] for i in a for j in b for k in c    ]"
   ]
  },
  {
   "cell_type": "code",
   "execution_count": 29,
   "metadata": {},
   "outputs": [
    {
     "data": {
      "text/plain": [
       "[['Orange', 'Man', 'Cat'],\n",
       " ['Orange', 'Man', 'Tiger'],\n",
       " ['Orange', 'Man', 'Python'],\n",
       " ['Orange', 'Alien', 'Cat'],\n",
       " ['Orange', 'Alien', 'Tiger'],\n",
       " ['Orange', 'Alien', 'Python'],\n",
       " ['Orange', 'Human', 'Cat'],\n",
       " ['Orange', 'Human', 'Tiger'],\n",
       " ['Orange', 'Human', 'Python'],\n",
       " ['Banana', 'Man', 'Cat'],\n",
       " ['Banana', 'Man', 'Tiger'],\n",
       " ['Banana', 'Man', 'Python'],\n",
       " ['Banana', 'Alien', 'Cat'],\n",
       " ['Banana', 'Alien', 'Tiger'],\n",
       " ['Banana', 'Alien', 'Python'],\n",
       " ['Banana', 'Human', 'Cat'],\n",
       " ['Banana', 'Human', 'Tiger'],\n",
       " ['Banana', 'Human', 'Python'],\n",
       " ['Mango', 'Man', 'Cat'],\n",
       " ['Mango', 'Man', 'Tiger'],\n",
       " ['Mango', 'Man', 'Python'],\n",
       " ['Mango', 'Alien', 'Cat'],\n",
       " ['Mango', 'Alien', 'Tiger'],\n",
       " ['Mango', 'Alien', 'Python'],\n",
       " ['Mango', 'Human', 'Cat'],\n",
       " ['Mango', 'Human', 'Tiger'],\n",
       " ['Mango', 'Human', 'Python']]"
      ]
     },
     "execution_count": 29,
     "metadata": {},
     "output_type": "execute_result"
    }
   ],
   "source": [
    "per"
   ]
  },
  {
   "cell_type": "code",
   "execution_count": null,
   "metadata": {},
   "outputs": [],
   "source": []
  }
 ],
 "metadata": {
  "kernelspec": {
   "display_name": "Python 3",
   "language": "python",
   "name": "python3"
  },
  "language_info": {
   "codemirror_mode": {
    "name": "ipython",
    "version": 3
   },
   "file_extension": ".py",
   "mimetype": "text/x-python",
   "name": "python",
   "nbconvert_exporter": "python",
   "pygments_lexer": "ipython3",
   "version": "3.6.4"
  }
 },
 "nbformat": 4,
 "nbformat_minor": 2
}
